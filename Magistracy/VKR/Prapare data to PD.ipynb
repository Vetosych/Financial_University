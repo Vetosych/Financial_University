{
 "cells": [
  {
   "cell_type": "code",
   "execution_count": 1,
   "id": "c6ef795e",
   "metadata": {},
   "outputs": [],
   "source": [
    "import pandas as pd\n",
    "import numpy as np"
   ]
  },
  {
   "cell_type": "code",
   "execution_count": 17,
   "id": "50326280",
   "metadata": {},
   "outputs": [],
   "source": [
    "df = pd.read_csv('application_train.csv')\n",
    "df['DATE_DATA'] = pd.to_datetime('today').normalize()\n",
    "df.to_csv('application_train(model).csv')"
   ]
  },
  {
   "cell_type": "code",
   "execution_count": 13,
   "id": "194cd33e",
   "metadata": {},
   "outputs": [],
   "source": [
    "# https://www.kaggle.com/datasets/laotse/credit-risk-dataset\n",
    "df = pd.read_csv('PD пример/credit_risk_dataset.csv')\n",
    "df['DATE_DATA'] = pd.to_datetime('today').normalize()\n",
    "df = df.reset_index()\n",
    "df.columns = ['IDCLIENT', 'person_age', 'person_income', 'person_home_ownership',\n",
    "       'person_emp_length', 'loan_intent', 'loan_grade', 'loan_amnt',\n",
    "       'loan_int_rate', 'EVENT', 'loan_percent_income',\n",
    "       'cb_person_default_on_file', 'cb_person_cred_hist_length', 'DATE_DATA']\n",
    "df.to_csv('application_train(model) PD.csv')"
   ]
  }
 ],
 "metadata": {
  "kernelspec": {
   "display_name": "Python 3",
   "language": "python",
   "name": "python3"
  },
  "language_info": {
   "codemirror_mode": {
    "name": "ipython",
    "version": 3
   },
   "file_extension": ".py",
   "mimetype": "text/x-python",
   "name": "python",
   "nbconvert_exporter": "python",
   "pygments_lexer": "ipython3",
   "version": "3.7.3"
  }
 },
 "nbformat": 4,
 "nbformat_minor": 5
}
